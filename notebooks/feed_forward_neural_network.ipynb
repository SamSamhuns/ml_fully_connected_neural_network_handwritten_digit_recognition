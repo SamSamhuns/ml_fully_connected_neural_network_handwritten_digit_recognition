{
 "cells": [
  {
   "cell_type": "markdown",
   "metadata": {},
   "source": [
    "# Neural Network from Scratch\n"
   ]
  },
  {
   "cell_type": "markdown",
   "metadata": {},
   "source": [
    "## Importing libraries\n",
    "\n",
    "We will use the lower resolution MINST data set"
   ]
  },
  {
   "cell_type": "code",
   "execution_count": 2,
   "metadata": {},
   "outputs": [],
   "source": [
    "import numpy as np\n",
    "from typing import List\n",
    "from typing import Tuple\n",
    "from functools import partial\n",
    "from tqdm.notebook import tqdm\n",
    "from collections.abc import Sequence\n",
    "import matplotlib.pyplot as plt \n",
    "\n",
    "from sklearn.metrics import accuracy_score\n",
    "from sklearn.datasets import load_digits              # The MNIST data set\n",
    "from sklearn.preprocessing import StandardScaler      # It is important in neural networks to scale the date\n",
    "from sklearn.model_selection import train_test_split  # The standard train test split to prevent overfitting and choose hyperparameters\n",
    "\n",
    "DEBUG = True"
   ]
  },
  {
   "cell_type": "markdown",
   "metadata": {},
   "source": [
    "## Exploring the dataset"
   ]
  },
  {
   "cell_type": "code",
   "execution_count": 3,
   "metadata": {},
   "outputs": [
    {
     "name": "stdout",
     "output_type": "stream",
     "text": [
      "The shape of the digits dataset: (1797, 64)\n"
     ]
    },
    {
     "data": {
      "image/png": "[encoded data removed]",
      "text/plain": [
       "<Figure size 432x288 with 10 Axes>"
      ]
     },
     "metadata": {},
     "output_type": "display_data"
    }
   ],
   "source": [
    "# load all the digits dataset from the sklearn library\n",
    "\n",
    "digits = load_digits()\n",
    "X, y = digits.data, digits.target\n",
    "print(\"The shape of the digits dataset:\", X.shape)\n",
    "\n",
    "def plt_digit(x, h, w):\n",
    "    plt.imshow(x.reshape((h, w)), cmap=plt.cm.gray)\n",
    "    plt.xticks([])\n",
    "    plt.yticks([])\n",
    "    \n",
    "def display_digits(X, height, width, num_images=10):\n",
    "    if num_images&1 or num_images==0:\n",
    "        raise ValueError(\"Only even values (>=2) for num_images allowed\")\n",
    "    fig = plt.figure()\n",
    "    for i in range(1, num_images+1):\n",
    "        fig.add_subplot(2, num_images//2, i)\n",
    "        plt_digit(X[i], height, width)\n",
    "    plt.gray()\n",
    "    plt.show()\n",
    "\n",
    "display_digits(X, 8, 8)"
   ]
  },
  {
   "cell_type": "markdown",
   "metadata": {},
   "source": [
    "## Scale the dataset\n",
    "To speed the weight convergence, the training features must be scaled to have a mean of 0 and unit variance"
   ]
  },
  {
   "cell_type": "code",
   "execution_count": 3,
   "metadata": {},
   "outputs": [
    {
     "data": {
      "text/plain": [
       "array([[ 0.        , -0.33501649, -0.04308102, ..., -1.14664746,\n",
       "        -0.5056698 , -0.19600752],\n",
       "       [ 0.        , -0.33501649, -1.09493684, ...,  0.54856067,\n",
       "        -0.5056698 , -0.19600752],\n",
       "       [ 0.        , -0.33501649, -1.09493684, ...,  1.56568555,\n",
       "         1.6951369 , -0.19600752],\n",
       "       ...,\n",
       "       [ 0.        , -0.33501649, -0.88456568, ..., -0.12952258,\n",
       "        -0.5056698 , -0.19600752],\n",
       "       [ 0.        , -0.33501649, -0.67419451, ...,  0.8876023 ,\n",
       "        -0.5056698 , -0.19600752],\n",
       "       [ 0.        , -0.33501649,  1.00877481, ...,  0.8876023 ,\n",
       "        -0.26113572, -0.19600752]])"
      ]
     },
     "execution_count": 3,
     "metadata": {},
     "output_type": "execute_result"
    }
   ],
   "source": [
    "# Using the StandardScaler to standardize our X_feat\n",
    "scaler = StandardScaler()\n",
    "scaler.fit(X)\n",
    "X_scaled = scaler.transform(X)\n",
    "\n",
    "# Looking the new features after scaling\n",
    "X_scaled"
   ]
  },
  {
   "cell_type": "markdown",
   "metadata": {},
   "source": [
    "## Creating training and test datasets\n",
    "\n",
    "We split the data into training and test data sets with 60-40 split. \n",
    "\n",
    "We will train the neural network with the training dataset, and evaluate our neural network with the test dataset "
   ]
  },
  {
   "cell_type": "code",
   "execution_count": 4,
   "metadata": {},
   "outputs": [],
   "source": [
    "X_train, X_test, y_train, y_test = train_test_split(\n",
    "    X_scaled, y, test_size=0.40, random_state=1)"
   ]
  },
  {
   "cell_type": "markdown",
   "metadata": {},
   "source": [
    "## Setting up the output layer"
   ]
  },
  {
   "cell_type": "markdown",
   "metadata": {},
   "source": [
    "### One hot encoding"
   ]
  },
  {
   "cell_type": "code",
   "execution_count": 4,
   "metadata": {},
   "outputs": [],
   "source": [
    "def convert_y_to_vect(y):\n",
    "    \"\"\"\n",
    "    One Hot Encoding for target\n",
    "    Converts into a 10 element array\n",
    "    \n",
    "    y can be an integer or a Sequence of integers\n",
    "    \"\"\"\n",
    "    if isinstance(y, int):\n",
    "        return np.array([1 if i==y else 0 for i in range(10)])\n",
    "    elif isinstance(y, Sequence) or isinstance(y, np.ndarray):\n",
    "        return np.array([[1 if i==target else 0 for i in range(10)] for target in y])"
   ]
  },
  {
   "cell_type": "markdown",
   "metadata": {},
   "source": [
    "Converting the training and test targets to vectors "
   ]
  },
  {
   "cell_type": "code",
   "execution_count": 6,
   "metadata": {},
   "outputs": [],
   "source": [
    "# convert digits to vectors using the func above\n",
    "y_train_vect, y_test_vect = convert_y_to_vect(y_train), convert_y_to_vect(y_test)"
   ]
  },
  {
   "cell_type": "code",
   "execution_count": 7,
   "metadata": {},
   "outputs": [
    {
     "name": "stdout",
     "output_type": "stream",
     "text": [
      "[3 5 4 4]\n",
      "[[0 0 0 1 0 0 0 0 0 0]\n",
      " [0 0 0 0 0 1 0 0 0 0]\n",
      " [0 0 0 0 1 0 0 0 0 0]\n",
      " [0 0 0 0 1 0 0 0 0 0]]\n"
     ]
    }
   ],
   "source": [
    "if DEBUG:\n",
    "    print(y_train[0:4])\n",
    "    print((y_train_vect[0:4]))"
   ]
  },
  {
   "cell_type": "markdown",
   "metadata": {},
   "source": [
    "## Creating the neural network"
   ]
  },
  {
   "cell_type": "markdown",
   "metadata": {},
   "source": [
    "### Utility Activation Functions\n",
    "\n",
    "**The activation function and its derivative**\n",
    "\n",
    "Sigmoid activation function $\\sigma(z) = \\frac{1}{1+e^{-z}}$\n",
    "\n",
    "Sigmoid derivative function $\\sigma'(z) = \\sigma(z)(1-\\sigma(z))$\n",
    "\n",
    "RELU activation function $relu(z) = max(0, m*z)$ where m=1\n",
    "\n",
    "RELU derivative function $  \n",
    "relu'(z) = \n",
    "     \\begin{cases}\n",
    "       \\text{0} &\\quad\\text{if z} \\ge 0 \\\\\n",
    "       \\text{1} &\\quad\\text{if z} \\lt 0 \\\\\n",
    "     \\end{cases}\n",
    "$\n",
    "\n",
    "Tanh activation function $tanh(z) = \\frac{e^{2z}-1}{e^{2z}+1}$\n",
    "\n",
    "Tnah derivative function $tanh'(z) = 1 + tanh(z)^2$"
   ]
  },
  {
   "cell_type": "code",
   "execution_count": 5,
   "metadata": {},
   "outputs": [],
   "source": [
    "def sigmoid(z):\n",
    "    return 1/(1+np.e**(-z))\n",
    "\n",
    "\n",
    "def sigmoid_deriv(z):\n",
    "    return sigmoid(z) * (1-sigmoid(z))\n",
    "\n",
    "\n",
    "def tanh(z):\n",
    "    return (np.e**(2*z)-1)/(np.e**(2*z)+1)\n",
    "\n",
    "\n",
    "def tanh_deriv(z):\n",
    "    return 1 - tanh(z)**2\n",
    "\n",
    "\n",
    "def relu(z, m=0):\n",
    "    \"\"\"\n",
    "    default RELU = max(0, z) and m=0\n",
    "    \"\"\"\n",
    "    return np.where(x > 0, x, x * m)\n",
    "\n",
    "\n",
    "def relu_deriv(z, m=0):\n",
    "    z[z < 0] = m\n",
    "    z[z == 0] = 0\n",
    "    z[z > 0] = 1\n",
    "    return z\n",
    "\n",
    "leaky_relu = partial(relu, m=0.01)\n",
    "leaky_relu_deriv = partial(relu_deriv, m=0.01)"
   ]
  },
  {
   "cell_type": "markdown",
   "metadata": {},
   "source": [
    "### Loss functions"
   ]
  },
  {
   "cell_type": "code",
   "execution_count": 6,
   "metadata": {},
   "outputs": [],
   "source": [
    "def squared_error(y_pred, y_test):\n",
    "    return np.sqrt((np.sum(y_pred-y_test))**2)"
   ]
  },
  {
   "cell_type": "markdown",
   "metadata": {},
   "source": [
    "### Creating and initializing W and b\n",
    "\n",
    "W = weights of the neurons\n",
    "\n",
    "b = biases of the neurons\n",
    "\n",
    "The weights in W are different so that during back propagation, the nodes on a level will have different gradients and thus have different update values.\n",
    "\n",
    "The weights are randomly initialized from the uniform range \\[0.0, 1.0\\). The weights have to be small as the sigmoid flats out for large inputs"
   ]
  },
  {
   "cell_type": "code",
   "execution_count": 10,
   "metadata": {},
   "outputs": [],
   "source": [
    "def init_weight_and_bias(nn_structure: List[int]):\n",
    "    \"\"\"\n",
    "    nn_structure is a list that reprs the number of neurons in the NN layer\n",
    "    We use the Kaiming Initialization for the weights\n",
    "    \"\"\"\n",
    "    weights, bias = {}, {}\n",
    "    \n",
    "    # first layer is input layer so we do not save weights for it\n",
    "    for layer, n_neurons in enumerate(nn_structure[1:], start=1):\n",
    "        weights[layer] = np.random.random((n_neurons, nn_structure[layer-1])) / np.sqrt(n_neurons)\n",
    "        bias[layer] = np.random.random(n_neurons)\n",
    "        \n",
    "    return weights, bias"
   ]
  },
  {
   "cell_type": "markdown",
   "metadata": {},
   "source": [
    "### Initializing the weight and bias gradient dicts $\\triangledown W$ and $\\triangledown b$\n"
   ]
  },
  {
   "cell_type": "code",
   "execution_count": 11,
   "metadata": {},
   "outputs": [],
   "source": [
    "def init_weight_and_bias_gradients(nn_structure: List[int]):\n",
    "    delta_W, delta_b = {}, {}\n",
    "    \n",
    "    for layer, n_neurons in enumerate(nn_structure[1:], start=1):\n",
    "        delta_W[layer] = np.zeros((n_neurons, nn_structure[layer-1]))\n",
    "        delta_b[layer] = np.zeros(n_neurons)\n",
    "        \n",
    "    return  delta_W, delta_b"
   ]
  },
  {
   "cell_type": "markdown",
   "metadata": {},
   "source": [
    "## Feed forward\n",
    "\n",
    "The feed_forward function returns the values of $a$ and $z$"
   ]
  },
  {
   "cell_type": "code",
   "execution_count": 12,
   "metadata": {},
   "outputs": [],
   "source": [
    "def feed_forward(x, W, b):\n",
    "    \"\"\"\n",
    "    x is a single data point / 1D array\n",
    "    \"\"\"\n",
    "    # a in layer 1 is the input x itself\n",
    "    a = {1:x} # holds values of 'a' for all layers, a = func_activation(z)\n",
    "    z = {}    # holds values of 'z' for all layers, z = Wx + b\n",
    "    X_feat = x\n",
    "\n",
    "    for layer, (weight,bias) in enumerate(zip(W, b), start=2): \n",
    "        z[layer] = W[layer-1].dot(X_feat) + b[layer-1]\n",
    "        a[layer] = sigmoid(z[layer])\n",
    "        X_feat = a[layer]\n",
    "        \n",
    "    return a, z"
   ]
  },
  {
   "cell_type": "markdown",
   "metadata": {},
   "source": [
    "## Computing $\\delta$\n",
    "\n",
    "$\\delta^{(s_l)}$ is computed in \"calculate_out_layer_delta\"  \n",
    "\n",
    "$delta^{nl} = -(y_i - a_i^{nl}) * f'(z_i^{nl})$\n",
    "\n",
    "$\\delta^{(\\ell)}$ is computed for the hidden layers in \"calculate_hidden_delta\" \n",
    "    \n",
    "$delta^{l} = (transpose(W^{l}) * delta^{l+1}) * f'(z^{l})$"
   ]
  },
  {
   "cell_type": "code",
   "execution_count": 13,
   "metadata": {},
   "outputs": [],
   "source": [
    "def calculate_out_layer_delta(y, a_out, z_out):\n",
    "    # delta^(nl) = -(y_i - a_i^(nl)) * f'(z_i^(nl))\n",
    "    return  -(y-a_out) * sigmoid_deriv(z_out)\n",
    "\n",
    "\n",
    "def calculate_hidden_delta(delta_plus_1, w_l, z_l):\n",
    "    # delta^(l) = (transpose(W^(l)) * delta^(l+1)) * f'(z^(l))\n",
    "    return (w_l.T@delta_plus_1) * sigmoid_deriv(z_l)"
   ]
  },
  {
   "cell_type": "markdown",
   "metadata": {},
   "source": [
    "## The Back Propagation Algorithm\n"
   ]
  },
  {
   "cell_type": "code",
   "execution_count": 17,
   "metadata": {
    "code_folding": []
   },
   "outputs": [],
   "source": [
    "def train_nn(nn_structure, X, y, iter_num=3000, alpha=0.25):\n",
    "    \"\"\"\n",
    "    X must be np.ndarray\n",
    "    \"\"\"\n",
    "    W, b = init_weight_and_bias(nn_structure)\n",
    "    m, n = X.shape\n",
    "    mse_cost_overtime = []\n",
    "    print('Starting gradient descent for {} iterations'.format(iter_num))\n",
    "    for epoch in tqdm(range(iter_num)):\n",
    "        delta_W, delta_b = init_weight_and_bias_gradients(nn_structure)\n",
    "        cost = 0\n",
    "        \n",
    "        for data_idx, data in enumerate(X):\n",
    "            # feed forward pass saves a and z values to be used in gradient descent\n",
    "            a, z = feed_forward(data, W, b)\n",
    "            deltas = {}\n",
    "            # loop from n-1 to 1 backpropagating the errors\n",
    "            for layer in range(len(nn_structure),0,-1):\n",
    "                if layer == len(nn_structure): # layer is output layer\n",
    "                    deltas[layer] = calculate_out_layer_delta(y[data_idx,:], a[layer], z[layer])\n",
    "                    # squared error calculation\n",
    "                    cost += np.sqrt(np.sum((a[layer] - y[data_idx,:])**2))\n",
    "                else:\n",
    "                    if layer > 1: # layer is hidden layer\n",
    "                        deltas[layer] = calculate_hidden_delta(deltas[layer+1], W[layer], z[layer])\n",
    "                        \n",
    "                    # np.newaxis increases the number of dimensions\n",
    "                    # delta_W^(l) = delta_W^(l) + deltas^(l+1) * transpose(a^(l))\n",
    "                    delta_W[layer] +=  (deltas[layer+1][:, np.newaxis] @ a[layer][:,np.newaxis].T)\n",
    "                    # delta_b^(l) = delta_b^(l) + deltas^(l+1)\n",
    "                    delta_b[layer] +=  deltas[layer+1]\n",
    "\n",
    "        # perform the gradient descent step for the weights in each layer\n",
    "        for layer in range(len(nn_structure)-1,0,-1):\n",
    "            W[layer] += -alpha*(delta_W[layer]/m)\n",
    "            b[layer] += -alpha*(delta_b[layer]/m)\n",
    "\n",
    "        mse_cost = cost / m\n",
    "        mse_cost_overtime.append(mse_cost)\n",
    "        \n",
    "        # print the iteration number for every 1000 iter\n",
    "        if epoch % 500 == 0:\n",
    "            print(\"At iteration\", epoch, \"loss is \", mse_cost_overtime[epoch])\n",
    "\n",
    "    return W, b, mse_cost_overtime"
   ]
  },
  {
   "cell_type": "code",
   "execution_count": 15,
   "metadata": {},
   "outputs": [],
   "source": [
    "def predict_y(W, b, X, n_layer_idx):\n",
    "    m, n = X.shape\n",
    "    y_pred = np.zeros((m,))\n",
    "\n",
    "    for i, data in enumerate(X):\n",
    "        a, _ = feed_forward(data, W, b)\n",
    "        y_pred[i] = np.argmax(a[n_layer_idx])\n",
    "\n",
    "    return y_pred"
   ]
  },
  {
   "cell_type": "markdown",
   "metadata": {},
   "source": [
    "## Running the neural network\n",
    "\n",
    "Our code assumes the size of each layer in our network is held in a list.  The input layer will have 64 neurons (one for each pixel in our 8 by 8 pixelated digit).  Our hidden layer has 30 neurons (you can change this value).  The output layer has 10 neurons.\n",
    "\n",
    "Next we create the python list to hold the number of neurons for each level and then run the neural network code with our training data.\n",
    "\n",
    "This code will take some time..."
   ]
  },
  {
   "cell_type": "code",
   "execution_count": 18,
   "metadata": {},
   "outputs": [
    {
     "name": "stdout",
     "output_type": "stream",
     "text": [
      "Starting gradient descent for 3000 iterations\n"
     ]
    },
    {
     "data": {
      "application/vnd.jupyter.widget-view+json": {
       "model_id": "a51b1df71cb5471eb20a7ff80b8bc4fe",
       "version_major": 2,
       "version_minor": 0
      },
      "text/plain": [
       "HBox(children=(FloatProgress(value=0.0, max=3000.0), HTML(value='')))"
      ]
     },
     "metadata": {},
     "output_type": "display_data"
    },
    {
     "name": "stdout",
     "output_type": "stream",
     "text": [
      "At iteration 0 loss is  2.8581704272857276\n",
      "At iteration 100 loss is  0.9539796619543467\n",
      "At iteration 200 loss is  0.9427645883084591\n",
      "At iteration 300 loss is  0.9248125150672019\n",
      "At iteration 400 loss is  0.8890826495482642\n",
      "At iteration 500 loss is  0.828854432299645\n",
      "At iteration 600 loss is  0.7579391394064134\n",
      "At iteration 700 loss is  0.6913043134596762\n",
      "At iteration 800 loss is  0.6322265008029798\n",
      "At iteration 900 loss is  0.5825980040770571\n",
      "At iteration 1000 loss is  0.541418400058578\n",
      "At iteration 1100 loss is  0.506707445996259\n",
      "At iteration 1200 loss is  0.4766670550336959\n",
      "At iteration 1300 loss is  0.44964784455872614\n",
      "At iteration 1400 loss is  0.42459101134558247\n",
      "At iteration 1500 loss is  0.40125371111350494\n",
      "At iteration 1600 loss is  0.37989030946599556\n",
      "At iteration 1700 loss is  0.36069818791226493\n",
      "At iteration 1800 loss is  0.34364031269054246\n",
      "At iteration 1900 loss is  0.3285268702799243\n",
      "At iteration 2000 loss is  0.3150795449685798\n",
      "At iteration 2100 loss is  0.3030796393132645\n",
      "At iteration 2200 loss is  0.29231327728661904\n",
      "At iteration 2300 loss is  0.2825885637447202\n",
      "At iteration 2400 loss is  0.2737476249347336\n",
      "At iteration 2500 loss is  0.26566529108377446\n",
      "At iteration 2600 loss is  0.2582410910966615\n",
      "At iteration 2700 loss is  0.2513885972834286\n",
      "At iteration 2800 loss is  0.24503497079784536\n",
      "At iteration 2900 loss is  0.23911989048189025\n",
      "\n"
     ]
    }
   ],
   "source": [
    "nn_structure = [64, 30, 10]\n",
    "    \n",
    "# train the NN with the nn_structure and 3000 iterations\n",
    "trained_weight, trained_bias, mse_cost_overtime = train_nn(nn_structure, X_train, y_train_vect, iter_num=3000, alpha=0.25)"
   ]
  },
  {
   "cell_type": "markdown",
   "metadata": {},
   "source": [
    "### Plotting the learning curve\n"
   ]
  },
  {
   "cell_type": "code",
   "execution_count": 19,
   "metadata": {},
   "outputs": [
    {
     "data": {
      "image/png": "[encoded data removed]",
      "text/plain": [
       "<Figure size 432x288 with 1 Axes>"
      ]
     },
     "metadata": {
      "needs_background": "light"
     },
     "output_type": "display_data"
    }
   ],
   "source": [
    "# plot the avg_cost_func \n",
    "plt.plot(mse_cost_overtime)\n",
    "plt.xlabel('Iteration number')\n",
    "plt.ylabel('Average J')\n",
    "plt.show()"
   ]
  },
  {
   "cell_type": "markdown",
   "metadata": {},
   "source": [
    "## Assessing accuracy\n",
    "Next we determine what percentage the neural network correctly predicted the handwritten digit correctly on the test set"
   ]
  },
  {
   "cell_type": "code",
   "execution_count": 20,
   "metadata": {},
   "outputs": [
    {
     "name": "stdout",
     "output_type": "stream",
     "text": [
      "Prediction accuracy is 95.688456%\n"
     ]
    }
   ],
   "source": [
    "y_pred = predict_y(trained_weight, trained_bias, X_test, len(nn_structure))\n",
    "print('Prediction accuracy is {:5f}%'.format(accuracy_score(y_test, y_pred) * 100))"
   ]
  },
  {
   "cell_type": "markdown",
   "metadata": {},
   "source": [
    "## Neural Network OOP model"
   ]
  },
  {
   "cell_type": "code",
   "execution_count": 7,
   "metadata": {
    "code_folding": [
     2,
     12,
     21,
     33,
     53,
     59,
     65,
     68
    ]
   },
   "outputs": [],
   "source": [
    "class FCNeuralNetwork:\n",
    "\n",
    "    def __init__(self, nn_structure: List[int], act_func=sigmoid, act_func_deriv=sigmoid_deriv) -> None:\n",
    "        \"\"\"\n",
    "        nn_structure is a list that reprs the NNs FC layers [64,50,30,10] where 64 is the input layer\n",
    "        \"\"\"\n",
    "        self.nn_structure = nn_structure\n",
    "        self.weight, self.bias = {}, {}\n",
    "        self.a_func = act_func\n",
    "        self.a_func_deriv = act_func_deriv\n",
    "        self.mse_overtime = []\n",
    "\n",
    "    def _init_weight_and_bias(self) -> None:\n",
    "        \"\"\"\n",
    "        We use Kaiming initialization and the first layer is skipped as it is the input layer\n",
    "        \"\"\"\n",
    "        for layer, n_neurons in enumerate(self.nn_structure[1:], start=1):\n",
    "            self.weight[layer] = np.random.random(\n",
    "                (n_neurons, self.nn_structure[layer-1])) / np.sqrt(n_neurons)\n",
    "            self.bias[layer] = np.random.random(n_neurons)\n",
    "\n",
    "    def _gen_weight_and_bias_deltas(self) -> Tuple[dict, dict]:\n",
    "        \"\"\"\n",
    "        Skip first layer as it is the input layer\n",
    "        \"\"\"\n",
    "        W_delta, b_delta = {}, {}\n",
    "        for layer, n_neurons in enumerate(self.nn_structure[1:], start=1):\n",
    "            W_delta[layer] = np.zeros(\n",
    "                (n_neurons, self.nn_structure[layer-1]))\n",
    "            b_delta[layer] = np.zeros(n_neurons)\n",
    "\n",
    "        return W_delta, b_delta\n",
    "\n",
    "    def _feedforward(self, data) -> Tuple[dict, dict]:\n",
    "        \"\"\"\n",
    "        z = Wx + b\n",
    "        a = f(z) where f = activation function\n",
    "        The first layer in a stores the input values, data itself\n",
    "\n",
    "        self.weight and self.bias both start from layer 1\n",
    "        \"\"\"\n",
    "        if self.weight == {} or self.bias == {}:\n",
    "            raise ValueError(\n",
    "                \"Weights and biases of the network have not been initialized\")\n",
    "\n",
    "        a, z = {1: data}, {}\n",
    "        X_feat = data\n",
    "        for layer, (weight, bias) in enumerate(zip(self.weight, self.bias), start=2):\n",
    "            z[layer] = self.weight[layer-1].dot(X_feat) + self.bias[layer-1]\n",
    "            a[layer] = self.a_func(z[layer])\n",
    "            X_feat = a[layer]\n",
    "        return a, z\n",
    "\n",
    "    def _cal_out_layer_delta(self, y_vect, a_out, z_out):\n",
    "        \"\"\"\n",
    "        delta^(nth layer) = -(y_i - a_i^(nth layer)) * f'(z_i^(nth layer))\n",
    "        \"\"\"\n",
    "        return -(y_vect-a_out) * self.a_func_deriv(z_out)\n",
    "\n",
    "    def _cal_hidden_layer_delta(self, delta_layer_plus_one, W_layer, z_layer):\n",
    "        \"\"\"\n",
    "        delta^(layer) = (transpose(W^(layer)) * delta^(layer+1)) * f'(z^(layer))\n",
    "        \"\"\"\n",
    "        return (W_layer.T@delta_layer_plus_one)*self.a_func_deriv(z_layer)\n",
    "\n",
    "    def accuracy(self, y_pred, y_test):\n",
    "        return accuracy_score(y_test, y_pred)*100\n",
    "\n",
    "    def predict(self, X_test):\n",
    "        m, n = X_test.shape\n",
    "        y_pred = np.zeros(m)\n",
    "        for i, data in enumerate(X_test):\n",
    "            predicted, _ = self._feedforward(data)\n",
    "            final_layer_output = predicted[len(self.nn_structure)]\n",
    "            # As output is number in interval [0,9]\n",
    "            y_pred[i] = np.argmax(final_layer_output)\n",
    "        return y_pred\n",
    "\n",
    "    def fit(self, X, y, epochs=3000, alpha=0.25) -> None:\n",
    "        self._init_weight_and_bias()\n",
    "        m, n = X.shape\n",
    "\n",
    "        for epoch in tqdm(range(epochs)):\n",
    "            cost = 0\n",
    "            delta_W, delta_b = self._gen_weight_and_bias_deltas()\n",
    "            \n",
    "            for data_idx, data in enumerate(X):\n",
    "                a, z = self._feedforward(data)  # feedfoward data\n",
    "                deltas = {}\n",
    "\n",
    "                # backpropagation upto to layer 1\n",
    "                for layer in range(len(self.nn_structure), 0, -1):\n",
    "                    if layer == len(self.nn_structure):  # Output layer\n",
    "                        y_vect = y[data_idx, :]  # actual y_train value\n",
    "                        deltas[layer] = self._cal_out_layer_delta(\n",
    "                            y_vect, a[layer], z[layer])\n",
    "                        cost += squared_error(a[layer], y_vect)\n",
    "                    else:\n",
    "                        if layer > 1:  # if layer is hidden layer and not input layer\n",
    "                            deltas[layer] = self._cal_hidden_layer_delta(deltas[layer+1],self.weight[layer],z[layer])\n",
    "                        \n",
    "                        # np.newaxis increases the number of dimensions\n",
    "                        # delta_W^(layer) = delta_W^(layer) + deltas^(layer+1) * transpose(a^(layer))\n",
    "                        delta_W[layer] += (deltas[layer+1][:, np.newaxis]\n",
    "                                           @ a[layer][:, np.newaxis].T)\n",
    "                        # delta_b^(layer) = delta_b^(layer) + deltas^(layer+1)\n",
    "                        delta_b[layer] += deltas[layer+1]\n",
    "\n",
    "            # gradient descent update for layer 1 to layer n-1\n",
    "            for layer in range(1, len(self.nn_structure)-1):\n",
    "                self.weight[layer] += -alpha * (delta_W[layer]/m)\n",
    "                self.bias[layer] += -alpha * (delta_b[layer]/m)\n",
    "\n",
    "            # calculate mse cost\n",
    "            mse_cost = cost / m\n",
    "            self.mse_overtime.append(mse_cost)\n",
    "\n",
    "            # Print current cost at epoch intervals of 100\n",
    "            if epoch % 100 == 0:\n",
    "                print(f\"At epoch {epoch}, mse-cost is {mse_cost}\")\n",
    "        print(f\"At epoch {epochs}, mse-cost is {mse_cost}\")"
   ]
  },
  {
   "cell_type": "markdown",
   "metadata": {},
   "source": [
    "## Prepare and Preprocess data"
   ]
  },
  {
   "cell_type": "code",
   "execution_count": 8,
   "metadata": {},
   "outputs": [],
   "source": [
    "X,y = load_digits(return_X_y=True)\n",
    "scaler = StandardScaler()\n",
    "scaler.fit(X)\n",
    "X_scaled = scaler.transform(X)\n",
    "\n",
    "X_train, X_test, y_train, y_test = train_test_split(\n",
    "    X_scaled, y, test_size=0.40, random_state=1)\n",
    "\n",
    "y_train_vect = convert_y_to_vect(y_train)"
   ]
  },
  {
   "cell_type": "code",
   "execution_count": 9,
   "metadata": {},
   "outputs": [],
   "source": [
    "nn_network_sigmoid = FCNeuralNetwork([64, 30, 10])"
   ]
  },
  {
   "cell_type": "code",
   "execution_count": 10,
   "metadata": {},
   "outputs": [
    {
     "data": {
      "application/vnd.jupyter.widget-view+json": {
       "model_id": "092cbca10dc7492f90a43f65031fb28c",
       "version_major": 2,
       "version_minor": 0
      },
      "text/plain": [
       "HBox(children=(FloatProgress(value=0.0, max=1000.0), HTML(value='')))"
      ]
     },
     "metadata": {},
     "output_type": "display_data"
    },
    {
     "name": "stdout",
     "output_type": "stream",
     "text": [
      "At epoch 0, mse-cost is 8.637873584275045\n",
      "At epoch 100, mse-cost is 8.382494844797197\n",
      "At epoch 200, mse-cost is 7.999367054582114\n",
      "At epoch 300, mse-cost is 7.705468468734416\n",
      "At epoch 400, mse-cost is 7.497983356982718\n",
      "At epoch 500, mse-cost is 7.328218400629312\n",
      "At epoch 600, mse-cost is 7.170066540817601\n",
      "At epoch 700, mse-cost is 7.017607732646176\n",
      "At epoch 800, mse-cost is 6.871688145726446\n",
      "At epoch 900, mse-cost is 6.73595942060322\n",
      "\n",
      "At epoch 1000, mse-cost is 6.618444854983972\n"
     ]
    }
   ],
   "source": [
    "nn_network_sigmoid.fit(X_train, y_train_vect, 1000)"
   ]
  },
  {
   "cell_type": "code",
   "execution_count": 11,
   "metadata": {},
   "outputs": [
    {
     "data": {
      "text/plain": [
       "11.265646731571627"
      ]
     },
     "execution_count": 11,
     "metadata": {},
     "output_type": "execute_result"
    }
   ],
   "source": [
    "y_pred = nn_network_sigmoid.predict(X_test)\n",
    "nn_network_sigmoid.accuracy(y_pred, y_test)"
   ]
  },
  {
   "cell_type": "code",
   "execution_count": 12,
   "metadata": {},
   "outputs": [
    {
     "data": {
      "text/plain": [
       "array([8., 9., 8., 5., 5., 5., 5., 5., 8., 5., 9., 9., 8., 5., 5., 5., 5.,\n",
       "       9., 5., 5., 5., 8., 8., 5., 5., 5., 5., 5., 9., 5., 5., 9., 9., 8.,\n",
       "       9., 8., 5., 5., 8., 5., 5., 5., 5., 9., 8., 5., 9., 5., 8., 8., 8.,\n",
       "       9., 5., 5., 8., 5., 5., 5., 8., 9., 9., 5., 9., 8., 8., 8., 5., 9.,\n",
       "       9., 8., 8., 8., 5., 5., 5., 8., 9., 5., 5., 9., 8., 5., 9., 5., 9.,\n",
       "       9., 5., 9., 9., 9., 9., 9., 9., 5., 5., 8., 8., 5., 8., 9., 9., 5.,\n",
       "       9., 8., 9., 5., 9., 5., 9., 9., 9., 9., 9., 5., 8., 5., 9., 9., 5.,\n",
       "       5., 5., 5., 5., 5., 5., 5., 5., 5., 8., 5., 5., 5., 8., 9., 8., 8.,\n",
       "       8., 9., 5., 5., 9., 5., 8., 5., 8., 5., 5., 5., 5., 9., 5., 9., 8.,\n",
       "       5., 9., 9., 9., 8., 5., 8., 8., 9., 5., 8., 5., 5., 8., 8., 8., 9.,\n",
       "       5., 5., 5., 8., 5., 9., 5., 5., 5., 5., 5., 5., 9., 5., 9., 5., 9.,\n",
       "       5., 5., 9., 9., 5., 8., 5., 9., 8., 5., 5., 5., 5., 5., 5., 9., 8.,\n",
       "       8., 9., 5., 5., 5., 5., 9., 5., 8., 5., 5., 5., 5., 8., 9., 8., 9.,\n",
       "       8., 8., 8., 8., 9., 5., 8., 9., 8., 5., 9., 9., 9., 8., 9., 5., 8.,\n",
       "       5., 9., 9., 9., 8., 9., 9., 5., 5., 8., 9., 5., 5., 5., 9., 8., 5.,\n",
       "       5., 5., 8., 9., 8., 5., 9., 9., 8., 8., 5., 8., 5., 5., 5., 8., 5.,\n",
       "       9., 8., 8., 5., 5., 5., 8., 5., 5., 5., 8., 5., 8., 5., 9., 8., 9.,\n",
       "       5., 8., 8., 5., 9., 5., 9., 5., 8., 5., 5., 5., 8., 9., 9., 5., 5.,\n",
       "       5., 9., 5., 5., 9., 8., 5., 9., 9., 8., 8., 8., 5., 5., 5., 5., 5.,\n",
       "       5., 8., 9., 8., 8., 8., 8., 8., 5., 8., 8., 5., 5., 8., 9., 9., 8.,\n",
       "       9., 8., 5., 5., 8., 5., 8., 5., 9., 5., 5., 8., 5., 8., 9., 5., 8.,\n",
       "       5., 9., 8., 5., 5., 8., 8., 9., 5., 5., 8., 5., 5., 8., 8., 9., 9.,\n",
       "       9., 8., 9., 9., 8., 5., 5., 5., 5., 9., 8., 9., 9., 9., 8., 5., 5.,\n",
       "       5., 8., 9., 9., 9., 8., 8., 5., 5., 8., 9., 5., 5., 5., 8., 8., 5.,\n",
       "       5., 8., 5., 8., 9., 5., 5., 8., 5., 5., 8., 5., 9., 8., 5., 5., 8.,\n",
       "       5., 9., 5., 5., 5., 5., 9., 8., 9., 9., 5., 5., 5., 5., 5., 5., 9.,\n",
       "       8., 9., 8., 8., 9., 8., 8., 8., 8., 8., 5., 5., 8., 5., 8., 5., 5.,\n",
       "       5., 9., 8., 9., 9., 9., 8., 9., 8., 9., 8., 5., 5., 5., 5., 8., 8.,\n",
       "       9., 9., 9., 5., 5., 8., 5., 8., 8., 5., 8., 9., 5., 9., 5., 9., 9.,\n",
       "       5., 5., 9., 5., 8., 8., 9., 5., 5., 9., 5., 9., 5., 8., 5., 5., 9.,\n",
       "       9., 5., 8., 5., 5., 5., 5., 8., 9., 9., 8., 9., 8., 8., 5., 8., 8.,\n",
       "       8., 9., 8., 5., 5., 5., 9., 5., 9., 8., 9., 5., 5., 8., 8., 8., 8.,\n",
       "       5., 5., 8., 8., 5., 5., 5., 9., 9., 9., 8., 5., 9., 5., 8., 9., 8.,\n",
       "       5., 8., 9., 9., 8., 9., 5., 5., 5., 9., 5., 9., 5., 5., 5., 5., 8.,\n",
       "       5., 5., 8., 9., 8., 8., 5., 8., 9., 5., 8., 8., 5., 8., 5., 5., 5.,\n",
       "       5., 8., 8., 9., 5., 5., 5., 5., 8., 5., 8., 5., 5., 8., 9., 8., 8.,\n",
       "       8., 8., 9., 9., 8., 9., 9., 8., 8., 9., 8., 9., 5., 9., 5., 9., 8.,\n",
       "       9., 5., 8., 8., 8., 9., 8., 9., 5., 8., 5., 5., 8., 5., 5., 8., 8.,\n",
       "       8., 8., 8., 9., 5., 5., 5., 9., 9., 9., 9., 9., 8., 5., 5., 5., 9.,\n",
       "       8., 8., 8., 8., 8., 9., 5., 8., 5., 9., 5., 5., 5., 5., 8., 8., 5.,\n",
       "       5., 8., 5., 5., 8., 5., 5., 5., 5., 5., 9., 9., 9., 9., 5., 5., 8.,\n",
       "       9., 9., 5., 5., 5., 8., 9., 5., 9., 8., 5., 8., 9., 8., 5., 5., 5.,\n",
       "       5., 5., 9., 5., 5.])"
      ]
     },
     "execution_count": 12,
     "metadata": {},
     "output_type": "execute_result"
    }
   ],
   "source": [
    "y_pred"
   ]
  },
  {
   "cell_type": "code",
   "execution_count": null,
   "metadata": {},
   "outputs": [],
   "source": []
  }
 ],
 "metadata": {
  "hide_input": false,
  "kernelspec": {
   "display_name": "Python 3",
   "language": "python",
   "name": "python3"
  },
  "language_info": {
   "codemirror_mode": {
    "name": "ipython",
    "version": 3
   },
   "file_extension": ".py",
   "mimetype": "text/x-python",
   "name": "python",
   "nbconvert_exporter": "python",
   "pygments_lexer": "ipython3",
   "version": "3.7.1"
  },
  "toc": {
   "base_numbering": 1,
   "nav_menu": {},
   "number_sections": true,
   "sideBar": true,
   "skip_h1_title": false,
   "title_cell": "Table of Contents",
   "title_sidebar": "Contents",
   "toc_cell": false,
   "toc_position": {},
   "toc_section_display": true,
   "toc_window_display": false
  }
 },
 "nbformat": 4,
 "nbformat_minor": 2
}
