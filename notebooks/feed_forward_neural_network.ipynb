{
 "cells": [
  {
   "cell_type": "markdown",
   "metadata": {},
   "source": [
    "# Neural Network from Scratch\n"
   ]
  },
  {
   "cell_type": "markdown",
   "metadata": {},
   "source": [
    "## Importing libraries\n",
    "\n",
    "We will use the lower resolution MINST data set"
   ]
  },
  {
   "cell_type": "code",
   "execution_count": 1,
   "metadata": {},
   "outputs": [],
   "source": [
    "import numpy as np\n",
    "from typing import List\n",
    "from tqdm.notebook import tqdm\n",
    "from collections import Sequence\n",
    "import matplotlib.pyplot as plt \n",
    "\n",
    "from sklearn.metrics import accuracy_score\n",
    "from sklearn.datasets import load_digits              # The MNIST data set\n",
    "from sklearn.preprocessing import StandardScaler      # It is important in neural networks to scale the date\n",
    "from sklearn.model_selection import train_test_split  # The standard train test split to prevent overfitting and choose hyperparameters\n",
    "\n",
    "DEBUG = True"
   ]
  },
  {
   "cell_type": "markdown",
   "metadata": {},
   "source": [
    "## Exploring the dataset"
   ]
  },
  {
   "cell_type": "code",
   "execution_count": 2,
   "metadata": {},
   "outputs": [
    {
     "name": "stdout",
     "output_type": "stream",
     "text": [
      "The shape of the digits dataset: (1797, 64)\n"
     ]
    },
    {
     "data": {
      "text/plain": [
       "<Figure size 432x288 with 0 Axes>"
      ]
     },
     "metadata": {},
     "output_type": "display_data"
    },
    {
     "data": {
      "image/png": "[encoded data removed]",
      "text/plain": [
       "<Figure size 288x288 with 1 Axes>"
      ]
     },
     "metadata": {
      "needs_background": "light"
     },
     "output_type": "display_data"
    }
   ],
   "source": [
    "# load all the digits dataset from the sklearn library\n",
    "\n",
    "digits = load_digits()\n",
    "X, y = digits.data, digits.target\n",
    "print(\"The shape of the digits dataset:\", X.shape)\n",
    "\n",
    "plt.gray()  # set colormap to gray\n",
    "plt.matshow(digits.images[0])\n",
    "plt.show()"
   ]
  },
  {
   "cell_type": "markdown",
   "metadata": {},
   "source": [
    "## Scale the dataset\n",
    "To speed the weight convergence, the training features must be scaled to have a mean of 0 and unit variance"
   ]
  },
  {
   "cell_type": "code",
   "execution_count": 3,
   "metadata": {},
   "outputs": [
    {
     "data": {
      "text/plain": [
       "array([[ 0.        , -0.33501649, -0.04308102, ..., -1.14664746,\n",
       "        -0.5056698 , -0.19600752],\n",
       "       [ 0.        , -0.33501649, -1.09493684, ...,  0.54856067,\n",
       "        -0.5056698 , -0.19600752],\n",
       "       [ 0.        , -0.33501649, -1.09493684, ...,  1.56568555,\n",
       "         1.6951369 , -0.19600752],\n",
       "       ...,\n",
       "       [ 0.        , -0.33501649, -0.88456568, ..., -0.12952258,\n",
       "        -0.5056698 , -0.19600752],\n",
       "       [ 0.        , -0.33501649, -0.67419451, ...,  0.8876023 ,\n",
       "        -0.5056698 , -0.19600752],\n",
       "       [ 0.        , -0.33501649,  1.00877481, ...,  0.8876023 ,\n",
       "        -0.26113572, -0.19600752]])"
      ]
     },
     "execution_count": 3,
     "metadata": {},
     "output_type": "execute_result"
    }
   ],
   "source": [
    "# Using the StandardScaler to standardize our X_feat\n",
    "scaler = StandardScaler()\n",
    "scaler.fit(X)\n",
    "X_scaled = scaler.transform(X)\n",
    "\n",
    "# Looking the new features after scaling\n",
    "X_scaled"
   ]
  },
  {
   "cell_type": "markdown",
   "metadata": {},
   "source": [
    "## Creating training and test datasets\n",
    "\n",
    "We split the data into training and test data sets with 60-40 split. \n",
    "\n",
    "We will train the neural network with the training dataset, and evaluate our neural network with the test dataset "
   ]
  },
  {
   "cell_type": "code",
   "execution_count": 4,
   "metadata": {},
   "outputs": [],
   "source": [
    "X_train, X_test, y_train, y_test = train_test_split(\n",
    "    X_scaled, y, test_size=0.40, random_state=1)"
   ]
  },
  {
   "cell_type": "markdown",
   "metadata": {},
   "source": [
    "## Setting up the output layer"
   ]
  },
  {
   "cell_type": "markdown",
   "metadata": {},
   "source": [
    "### One hot encoding"
   ]
  },
  {
   "cell_type": "code",
   "execution_count": 5,
   "metadata": {},
   "outputs": [],
   "source": [
    "def convert_y_to_vect(y):\n",
    "    \"\"\"\n",
    "    One Hot Encoding for target\n",
    "    Converts into a 10 element array\n",
    "    \n",
    "    y can be an integer or a Sequence of integers\n",
    "    \"\"\"\n",
    "    if isinstance(y, int):\n",
    "        return np.array([1 if i==y else 0 for i in range(10)])\n",
    "    elif isinstance(y, Sequence) or isinstance(y, np.ndarray):\n",
    "        return np.array([[1 if i==target else 0 for i in range(10)] for target in y])"
   ]
  },
  {
   "cell_type": "markdown",
   "metadata": {},
   "source": [
    "Converting the training and test targets to vectors "
   ]
  },
  {
   "cell_type": "code",
   "execution_count": 6,
   "metadata": {},
   "outputs": [],
   "source": [
    "# convert digits to vectors using the func above\n",
    "y_train_vect, y_test_vect = convert_y_to_vect(y_train), convert_y_to_vect(y_test)"
   ]
  },
  {
   "cell_type": "code",
   "execution_count": 7,
   "metadata": {},
   "outputs": [
    {
     "name": "stdout",
     "output_type": "stream",
     "text": [
      "[3 5 4 4]\n",
      "[[0 0 0 1 0 0 0 0 0 0]\n",
      " [0 0 0 0 0 1 0 0 0 0]\n",
      " [0 0 0 0 1 0 0 0 0 0]\n",
      " [0 0 0 0 1 0 0 0 0 0]]\n"
     ]
    }
   ],
   "source": [
    "if DEBUG:\n",
    "    print(y_train[0:4])\n",
    "    print((y_train_vect[0:4]))"
   ]
  },
  {
   "cell_type": "markdown",
   "metadata": {},
   "source": [
    "## Creating the neural network"
   ]
  },
  {
   "cell_type": "markdown",
   "metadata": {},
   "source": [
    "### The activation function and its derivative\n",
    "\n",
    "We use the Sigmoid Activation function\n",
    "\n",
    "$\\sigma(z) = \\frac{1}{1+e^{-z}}$\n",
    "\n",
    "And use its derivative\n",
    "\n",
    "$\\sigma'(z) = \\sigma(z)(1-\\sigma(z))$"
   ]
  },
  {
   "cell_type": "code",
   "execution_count": 8,
   "metadata": {},
   "outputs": [],
   "source": [
    "def sigmoid(z):\n",
    "    return 1/(1+np.e**(-z))\n",
    "\n",
    "def sigmoid_deriv(z):\n",
    "    return sigmoid(z) * (1-sigmoid(z))"
   ]
  },
  {
   "cell_type": "markdown",
   "metadata": {},
   "source": [
    "### Creating and initializing W and b\n",
    "\n",
    "W = weights of the neurons\n",
    "\n",
    "b = biases of the neurons\n",
    "\n",
    "The weights in W are different so that during back propagation, the nodes on a level will have different gradients and thus have different update values.\n",
    "\n",
    "The weights are randomly initialized from the uniform range \\[0.0, 1.0\\). The weights have to be small as the sigmoid flats out for large inputs"
   ]
  },
  {
   "cell_type": "code",
   "execution_count": 29,
   "metadata": {},
   "outputs": [],
   "source": [
    "def init_weight_and_bias(nn_structure: List[int]):\n",
    "    \"\"\"\n",
    "    nn_structure is a list that reprs the number of neurons in the NN layer\n",
    "    We use the Kaiming Initialization for the weights\n",
    "    \"\"\"\n",
    "    weights, bias = {}, {}\n",
    "    \n",
    "    # first layer is input layer so we do not save weights for it\n",
    "    for layer, n_neurons in enumerate(nn_structure[1:], start=1):\n",
    "        weights[layer] = np.random.random((n_neurons, nn_structure[layer-1])) / np.sqrt(n_neurons)\n",
    "        bias[layer] = np.random.random(n_neurons)\n",
    "        \n",
    "    return weights, bias"
   ]
  },
  {
   "cell_type": "markdown",
   "metadata": {},
   "source": [
    "### Initializing the weight and bias gradient dicts $\\triangledown W$ and $\\triangledown b$\n"
   ]
  },
  {
   "cell_type": "code",
   "execution_count": 10,
   "metadata": {},
   "outputs": [],
   "source": [
    "def init_weight_and_bias_gradients(nn_structure: List[int]):\n",
    "    delta_W, delta_b = {}, {}\n",
    "    \n",
    "    for layer, n_neurons in enumerate(nn_structure[1:], start=1):\n",
    "        delta_W[layer] = np.zeros((n_neurons, nn_structure[layer-1]))\n",
    "        delta_b[layer] = np.zeros(n_neurons)\n",
    "        \n",
    "    return  delta_W, delta_b"
   ]
  },
  {
   "cell_type": "markdown",
   "metadata": {},
   "source": [
    "## Feed forward\n",
    "\n",
    "The feed_forward function returns the values of $a$ and $z$"
   ]
  },
  {
   "cell_type": "code",
   "execution_count": 11,
   "metadata": {},
   "outputs": [],
   "source": [
    "def feed_forward(x, W, b):\n",
    "    \"\"\"\n",
    "    x is a single data point / 1D array\n",
    "    a,z ignore input layer values\n",
    "    \"\"\"\n",
    "    # a in layer 1 is the input x itself\n",
    "    a = {1:x} # holds values of 'a' for all layers, a = func_activation(z)\n",
    "    z = {}    # holds values of 'z' for all layers, z = Wx + b\n",
    "    X_feat = x\n",
    "\n",
    "    for layer, (weight,bias) in enumerate(zip(W, b), start=2): \n",
    "        z[layer] = W[layer-1].dot(X_feat) + b[layer-1]\n",
    "        a[layer] = sigmoid(z[layer])\n",
    "        X_feat = a[layer]\n",
    "        \n",
    "    return a, z"
   ]
  },
  {
   "cell_type": "markdown",
   "metadata": {},
   "source": [
    "## Computing $\\delta$\n",
    "\n",
    "$\\delta^{(s_l)}$ is computed in \"calculate_out_layer_delta\"  \n",
    "\n",
    "$delta^{nl} = -(y_i - a_i^{nl}) * f'(z_i^{nl})$\n",
    "\n",
    "$\\delta^{(\\ell)}$ is computed for the hidden layers in \"calculate_hidden_delta\" \n",
    "    \n",
    "$delta^{l} = (transpose(W^{l}) * delta^{l+1}) * f'(z^{l})$"
   ]
  },
  {
   "cell_type": "code",
   "execution_count": 12,
   "metadata": {},
   "outputs": [],
   "source": [
    "def calculate_out_layer_delta(y, a_out, z_out):\n",
    "    # delta^(nl) = -(y_i - a_i^(nl)) * f'(z_i^(nl))\n",
    "    return  -(y-a_out) * sigmoid_deriv(z_out)\n",
    "\n",
    "\n",
    "def calculate_hidden_delta(delta_plus_1, w_l, z_l):\n",
    "    # delta^(l) = (transpose(W^(l)) * delta^(l+1)) * f'(z^(l))\n",
    "    return (w_l.T@delta_plus_1) * sigmoid_deriv(z_l)"
   ]
  },
  {
   "cell_type": "markdown",
   "metadata": {},
   "source": [
    "## The Back Propagation Algorithm\n"
   ]
  },
  {
   "cell_type": "code",
   "execution_count": 26,
   "metadata": {
    "code_folding": []
   },
   "outputs": [],
   "source": [
    "def train_nn(nn_structure, X, y, iter_num=3000, alpha=0.25):\n",
    "    \"\"\"\n",
    "    X msut be np.ndarray\n",
    "    \"\"\"\n",
    "    W, b = init_weight_and_bias(nn_structure)\n",
    "    epoch = 0\n",
    "    m, n = X.shape\n",
    "    mse_cost_overtime = []\n",
    "    print('Starting gradient descent for {} iterations'.format(iter_num))\n",
    "    # while the counter is less than the max iterations:\n",
    "    for epoch in tqdm(range(iter_num)):\n",
    "        delta_W, delta_b = init_weight_and_bias_gradients(nn_structure)\n",
    "        cost = 0\n",
    "        \n",
    "        for data_idx, data in enumerate(X):\n",
    "            # feed forward pass saves a and z values to be used in gradient descent\n",
    "            a, z = feed_forward(data, W, b)\n",
    "            deltas = {}\n",
    "            # loop from n-1 to 1 backpropagating the errors\n",
    "            for layer in range(len(nn_structure),0,-1):\n",
    "                if layer == len(nn_structure): # layer is output layer\n",
    "                    deltas[layer] = calculate_out_layer_delta(y[data_idx,:], a[layer], z[layer])\n",
    "                    # squared error calculation\n",
    "                    cost += np.sqrt(np.sum((a[layer] - y[data_idx,:])**2))\n",
    "                else:\n",
    "                    if layer > 1: # layer is hidden layer\n",
    "                        deltas[layer] = calculate_hidden_delta(deltas[layer+1], W[layer], z[layer])\n",
    "                    # triW^(l) = triW^(l) + delta^(l+1) * transpose(a^(l))\n",
    "                    delta_W[layer] +=  (deltas[layer+1][:, np.newaxis] @ a[layer][:,np.newaxis].T)\n",
    "                    \n",
    "                    # hint: you can use np.newaxis to increase the number of dimensions\n",
    "                    # trib^(l) = trib^(l) + delta^(l+1)\n",
    "                    delta_b[layer] +=  deltas[layer+1]\n",
    "\n",
    "        # perform the gradient descent step for the weights in each layer\n",
    "        for layer in range(len(nn_structure)-1,0,-1):\n",
    "            W[layer] += -alpha*(delta_W[layer]/m)\n",
    "            b[layer] += -alpha*(delta_b[layer]/m)\n",
    "\n",
    "        mse_cost = cost / m\n",
    "        mse_cost_overtime.append(mse_cost)\n",
    "        \n",
    "        # print the iteration number for every 1000 iter\n",
    "        if epoch % 500 == 0:\n",
    "            print(\"At iteration\", epoch, \"loss is \", mse_cost_overtime[epoch])\n",
    "\n",
    "    return W, b, mse_cost_overtime"
   ]
  },
  {
   "cell_type": "code",
   "execution_count": 14,
   "metadata": {},
   "outputs": [],
   "source": [
    "def predict_y(W, b, X, n_layer_idx):\n",
    "    m, n = X.shape\n",
    "    y_pred = np.zeros((m,))\n",
    "\n",
    "    for i, data in enumerate(X):\n",
    "        a, _ = feed_forward(data, W, b)\n",
    "        y_pred[i] = np.argmax(a[n_layer_idx])\n",
    "\n",
    "    return y_pred"
   ]
  },
  {
   "cell_type": "markdown",
   "metadata": {},
   "source": [
    "## Running the neural network\n",
    "\n",
    "Our code assumes the size of each layer in our network is held in a list.  The input layer will have 64 neurons (one for each pixel in our 8 by 8 pixelated digit).  Our hidden layer has 30 neurons (you can change this value).  The output layer has 10 neurons.\n",
    "\n",
    "Next we create the python list to hold the number of neurons for each level and then run the neural network code with our training data.\n",
    "\n",
    "This code will take some time..."
   ]
  },
  {
   "cell_type": "code",
   "execution_count": 27,
   "metadata": {},
   "outputs": [
    {
     "name": "stdout",
     "output_type": "stream",
     "text": [
      "Starting gradient descent for 3000 iterations\n"
     ]
    },
    {
     "data": {
      "application/vnd.jupyter.widget-view+json": {
       "model_id": "5d1db104e49c4e3cbc0d8b3c908d8542",
       "version_major": 2,
       "version_minor": 0
      },
      "text/plain": [
       "HBox(children=(FloatProgress(value=0.0, max=3000.0), HTML(value='')))"
      ]
     },
     "metadata": {},
     "output_type": "display_data"
    },
    {
     "name": "stdout",
     "output_type": "stream",
     "text": [
      "At iteration 0 loss is  2.811712792488314\n",
      "At iteration 500 loss is  0.9003469931616888\n",
      "At iteration 1000 loss is  0.7592722276884563\n",
      "At iteration 1500 loss is  0.6366614449841789\n",
      "At iteration 2000 loss is  0.5456306119333528\n",
      "At iteration 2500 loss is  0.47683253560956484\n",
      "\n"
     ]
    }
   ],
   "source": [
    "nn_structure = [64, 30, 10]\n",
    "    \n",
    "# train the NN with the nn_structure and 3000 iterations\n",
    "trained_weight, trained_bias, mse_cost_overtime = train_nn(nn_structure, X_train, y_train_vect, iter_num=3000, alpha=0.25)"
   ]
  },
  {
   "cell_type": "markdown",
   "metadata": {},
   "source": [
    "### Plotting the learning curve\n"
   ]
  },
  {
   "cell_type": "code",
   "execution_count": 30,
   "metadata": {},
   "outputs": [
    {
     "data": {
      "image/png": "[encoded data removed]",
      "text/plain": [
       "<Figure size 432x288 with 1 Axes>"
      ]
     },
     "metadata": {
      "needs_background": "light"
     },
     "output_type": "display_data"
    }
   ],
   "source": [
    "# plot the avg_cost_func \n",
    "plt.plot(mse_cost_overtime)\n",
    "plt.xlabel('Iteration number')\n",
    "plt.ylabel('Average J')\n",
    "plt.show()"
   ]
  },
  {
   "cell_type": "markdown",
   "metadata": {},
   "source": [
    "## Assessing accuracy\n",
    "Next we determine what percentage the neural network correctly predicted the handwritten digit correctly on the test set"
   ]
  },
  {
   "cell_type": "code",
   "execution_count": 31,
   "metadata": {},
   "outputs": [
    {
     "name": "stdout",
     "output_type": "stream",
     "text": [
      "Prediction accuracy is 88.456189%\n"
     ]
    }
   ],
   "source": [
    "y_pred = predict_y(trained_weight, trained_bias, X_test, len(nn_structure))\n",
    "print('Prediction accuracy is {:5f}%'.format(accuracy_score(y_test, y_pred) * 100))"
   ]
  },
  {
   "cell_type": "code",
   "execution_count": null,
   "metadata": {},
   "outputs": [],
   "source": []
  }
 ],
 "metadata": {
  "hide_input": false,
  "kernelspec": {
   "display_name": "Python 3",
   "language": "python",
   "name": "python3"
  },
  "language_info": {
   "codemirror_mode": {
    "name": "ipython",
    "version": 3
   },
   "file_extension": ".py",
   "mimetype": "text/x-python",
   "name": "python",
   "nbconvert_exporter": "python",
   "pygments_lexer": "ipython3",
   "version": "3.6.5"
  },
  "toc": {
   "base_numbering": 1,
   "nav_menu": {},
   "number_sections": true,
   "sideBar": true,
   "skip_h1_title": false,
   "title_cell": "Table of Contents",
   "title_sidebar": "Contents",
   "toc_cell": false,
   "toc_position": {},
   "toc_section_display": true,
   "toc_window_display": false
  }
 },
 "nbformat": 4,
 "nbformat_minor": 2
}
